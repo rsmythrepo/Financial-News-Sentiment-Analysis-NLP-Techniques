{
 "cells": [
  {
   "cell_type": "code",
   "execution_count": 20,
   "outputs": [
    {
     "name": "stdout",
     "output_type": "stream",
     "text": [
      "Requirement already satisfied: imbalanced-learn in c:\\users\\fagos\\anaconda3\\lib\\site-packages (0.10.1)\n",
      "Collecting imbalanced-learn\n",
      "  Obtaining dependency information for imbalanced-learn from https://files.pythonhosted.org/packages/92/e8/86c36e1b13007ca9c89381adac6c078cfc8fb71841a76c08a3fe3eca91d3/imbalanced_learn-0.12.0-py3-none-any.whl.metadata\n",
      "  Downloading imbalanced_learn-0.12.0-py3-none-any.whl.metadata (8.2 kB)\n",
      "Requirement already satisfied: numpy>=1.17.3 in c:\\users\\fagos\\anaconda3\\lib\\site-packages (from imbalanced-learn) (1.24.3)\n",
      "Requirement already satisfied: scipy>=1.5.0 in c:\\users\\fagos\\anaconda3\\lib\\site-packages (from imbalanced-learn) (1.11.1)\n",
      "Requirement already satisfied: scikit-learn>=1.0.2 in c:\\users\\fagos\\anaconda3\\lib\\site-packages (from imbalanced-learn) (1.3.0)\n",
      "Requirement already satisfied: joblib>=1.1.1 in c:\\users\\fagos\\anaconda3\\lib\\site-packages (from imbalanced-learn) (1.2.0)\n",
      "Requirement already satisfied: threadpoolctl>=2.0.0 in c:\\users\\fagos\\anaconda3\\lib\\site-packages (from imbalanced-learn) (2.2.0)\n",
      "Downloading imbalanced_learn-0.12.0-py3-none-any.whl (257 kB)\n",
      "   ---------------------------------------- 0.0/257.7 kB ? eta -:--:--\n",
      "   ------ --------------------------------- 41.0/257.7 kB 1.9 MB/s eta 0:00:01\n",
      "   --------- ------------------------------ 61.4/257.7 kB 1.6 MB/s eta 0:00:01\n",
      "   --------- ------------------------------ 61.4/257.7 kB 1.6 MB/s eta 0:00:01\n",
      "   --------- ------------------------------ 61.4/257.7 kB 1.6 MB/s eta 0:00:01\n",
      "   --------- ------------------------------ 61.4/257.7 kB 1.6 MB/s eta 0:00:01\n",
      "   --------- ------------------------------ 61.4/257.7 kB 1.6 MB/s eta 0:00:01\n",
      "   --------- ------------------------------ 61.4/257.7 kB 1.6 MB/s eta 0:00:01\n",
      "   --------- ------------------------------ 61.4/257.7 kB 1.6 MB/s eta 0:00:01\n",
      "   ---------------------------- --------- 194.6/257.7 kB 471.4 kB/s eta 0:00:01\n",
      "   ---------------------------------- --- 235.5/257.7 kB 514.3 kB/s eta 0:00:01\n",
      "   -------------------------------------- 257.7/257.7 kB 546.2 kB/s eta 0:00:00\n",
      "Installing collected packages: imbalanced-learn\n",
      "  Attempting uninstall: imbalanced-learn\n",
      "    Found existing installation: imbalanced-learn 0.10.1\n",
      "    Uninstalling imbalanced-learn-0.10.1:\n",
      "      Successfully uninstalled imbalanced-learn-0.10.1\n",
      "Successfully installed imbalanced-learn-0.12.0\n"
     ]
    }
   ],
   "source": [
    "!pip install -U imbalanced-learn"
   ],
   "metadata": {
    "collapsed": false,
    "ExecuteTime": {
     "end_time": "2024-02-09T19:20:11.659115800Z",
     "start_time": "2024-02-09T19:20:04.719845600Z"
    }
   },
   "id": "5b0068167c346929"
  },
  {
   "cell_type": "code",
   "execution_count": 9,
   "outputs": [],
   "source": [
    "import glob\n",
    "import pandas as pd\n",
    "import ast\n",
    "from sklearn.feature_extraction.text import TfidfVectorizer\n",
    "from imblearn.under_sampling import RandomUnderSampler\n",
    "from imblearn.over_sampling import RandomOverSampler \n",
    "import os"
   ],
   "metadata": {
    "collapsed": true,
    "ExecuteTime": {
     "end_time": "2024-02-10T14:24:37.469135Z",
     "start_time": "2024-02-10T14:24:37.462612300Z"
    }
   },
   "id": "initial_id"
  },
  {
   "cell_type": "code",
   "execution_count": 11,
   "outputs": [
    {
     "data": {
      "text/plain": "                                                    docs  label\n0      ['accord', 'gran', 'company', 'plan', 'product...      1\n1      ['technopoli', 'plan', 'develop', 'stage', 'ar...      1\n2      ['international', 'electronic', 'industry', 'c...      0\n3      ['new', 'production', 'plant', 'company', 'inc...      2\n4      ['accord', 'company', 'update', 'strategy', 'y...      2\n...                                                  ...    ...\n14759  ['operate', 'result', '12', 'month', 'period',...      0\n14760  ['helsinki', 'thomson', 'financial', 'share', ...      0\n14761  ['london', 'marketwatch', 'share', 'price', 'e...      0\n14762  ['operating', 'profit', 'fall', 'eur', '35.4',...      0\n14763  ['sale', 'finland', 'decrease', '10.5', 'janua...      0\n\n[14764 rows x 2 columns]",
      "text/html": "<div>\n<style scoped>\n    .dataframe tbody tr th:only-of-type {\n        vertical-align: middle;\n    }\n\n    .dataframe tbody tr th {\n        vertical-align: top;\n    }\n\n    .dataframe thead th {\n        text-align: right;\n    }\n</style>\n<table border=\"1\" class=\"dataframe\">\n  <thead>\n    <tr style=\"text-align: right;\">\n      <th></th>\n      <th>docs</th>\n      <th>label</th>\n    </tr>\n  </thead>\n  <tbody>\n    <tr>\n      <th>0</th>\n      <td>['accord', 'gran', 'company', 'plan', 'product...</td>\n      <td>1</td>\n    </tr>\n    <tr>\n      <th>1</th>\n      <td>['technopoli', 'plan', 'develop', 'stage', 'ar...</td>\n      <td>1</td>\n    </tr>\n    <tr>\n      <th>2</th>\n      <td>['international', 'electronic', 'industry', 'c...</td>\n      <td>0</td>\n    </tr>\n    <tr>\n      <th>3</th>\n      <td>['new', 'production', 'plant', 'company', 'inc...</td>\n      <td>2</td>\n    </tr>\n    <tr>\n      <th>4</th>\n      <td>['accord', 'company', 'update', 'strategy', 'y...</td>\n      <td>2</td>\n    </tr>\n    <tr>\n      <th>...</th>\n      <td>...</td>\n      <td>...</td>\n    </tr>\n    <tr>\n      <th>14759</th>\n      <td>['operate', 'result', '12', 'month', 'period',...</td>\n      <td>0</td>\n    </tr>\n    <tr>\n      <th>14760</th>\n      <td>['helsinki', 'thomson', 'financial', 'share', ...</td>\n      <td>0</td>\n    </tr>\n    <tr>\n      <th>14761</th>\n      <td>['london', 'marketwatch', 'share', 'price', 'e...</td>\n      <td>0</td>\n    </tr>\n    <tr>\n      <th>14762</th>\n      <td>['operating', 'profit', 'fall', 'eur', '35.4',...</td>\n      <td>0</td>\n    </tr>\n    <tr>\n      <th>14763</th>\n      <td>['sale', 'finland', 'decrease', '10.5', 'janua...</td>\n      <td>0</td>\n    </tr>\n  </tbody>\n</table>\n<p>14764 rows × 2 columns</p>\n</div>"
     },
     "execution_count": 11,
     "metadata": {},
     "output_type": "execute_result"
    }
   ],
   "source": [
    "file_directory = r\"C:\\Users\\fagos\\PycharmProjects\\pythonProject\\DDB-4\\Financial-News-Sentiment-Analysis-NLP-Techniques\\data\\processed\\financial_phrasebank\"\n",
    "file_pattern = \"*_processed.csv\"\n",
    "matching_files = glob.glob(os.path.join(file_directory, file_pattern))\n",
    "all_data = []\n",
    "\n",
    "for file_name in matching_files:\n",
    "    # Read each CSV file into a dataframe\n",
    "    df = pd.read_csv(file_name)\n",
    "    # Append the dataframe to the list of all data\n",
    "    all_data.append(df)\n",
    "\n",
    "# Concatenate all dataframes into a single dataframe\n",
    "financial_phrases = pd.concat(all_data, ignore_index=True)\n",
    "\n",
    "# Print or process the concatenated dataframe as needed\n",
    "financial_phrases"
   ],
   "metadata": {
    "collapsed": false,
    "ExecuteTime": {
     "end_time": "2024-02-10T14:25:50.053515600Z",
     "start_time": "2024-02-10T14:25:49.997835Z"
    }
   },
   "id": "697d2bd63f8f47af"
  },
  {
   "cell_type": "code",
   "execution_count": 12,
   "outputs": [
    {
     "data": {
      "text/plain": "label\n1    8935\n2    3988\n0    1841\nName: count, dtype: int64"
     },
     "execution_count": 12,
     "metadata": {},
     "output_type": "execute_result"
    }
   ],
   "source": [
    "financial_phrases['label'].value_counts()"
   ],
   "metadata": {
    "collapsed": false,
    "ExecuteTime": {
     "end_time": "2024-02-10T14:26:21.501294500Z",
     "start_time": "2024-02-10T14:26:21.475700800Z"
    }
   },
   "id": "53a1358ba3dcc3c4"
  },
  {
   "cell_type": "code",
   "execution_count": 13,
   "outputs": [],
   "source": [
    "financial_phrases['docs'] = financial_phrases['docs'].apply(ast.literal_eval)\n",
    "y = financial_phrases['label']"
   ],
   "metadata": {
    "collapsed": false,
    "ExecuteTime": {
     "end_time": "2024-02-10T14:26:39.674732500Z",
     "start_time": "2024-02-10T14:26:39.157885Z"
    }
   },
   "id": "df16b189e43edb0e"
  },
  {
   "cell_type": "code",
   "execution_count": 15,
   "outputs": [],
   "source": [
    "X_str = [' '.join(tokens) for tokens in financial_phrases['docs']]\n",
    "\n",
    "# TF-IDF vectorizer\n",
    "tfidf_vectorizer = TfidfVectorizer()\n",
    "X_tfidf = tfidf_vectorizer.fit_transform(X_str)\n",
    "\n",
    "#Setting the minimum number of classes to be equal to the smallest class. \n",
    "n_samples_per_class = 1841\n",
    "\n",
    "# Create an instance of RandomUnderSampler\n",
    "rusU = RandomUnderSampler(sampling_strategy={0: n_samples_per_class,\n",
    "                                            1: n_samples_per_class,\n",
    "                                            2: n_samples_per_class})\n",
    "\n",
    "# Perform random under-sampling\n",
    "X_resampled_U, y_resampled_U = rusU.fit_resample(X_tfidf, y)"
   ],
   "metadata": {
    "collapsed": false,
    "ExecuteTime": {
     "end_time": "2024-02-10T14:27:01.259987Z",
     "start_time": "2024-02-10T14:27:01.101997600Z"
    }
   },
   "id": "749ab378d83bd061"
  },
  {
   "cell_type": "code",
   "execution_count": 16,
   "outputs": [
    {
     "data": {
      "text/plain": "label\n0    1841\n1    1841\n2    1841\nName: count, dtype: int64"
     },
     "execution_count": 16,
     "metadata": {},
     "output_type": "execute_result"
    }
   ],
   "source": [
    "y_resampled_U.value_counts()"
   ],
   "metadata": {
    "collapsed": false,
    "ExecuteTime": {
     "end_time": "2024-02-10T14:27:02.447362600Z",
     "start_time": "2024-02-10T14:27:02.429727900Z"
    }
   },
   "id": "f246a64cabdd3df5"
  },
  {
   "cell_type": "code",
   "execution_count": 17,
   "outputs": [],
   "source": [
    "#Setting the maximum number of classes to be equal to the largest class. \n",
    "n_samples_per_class = 8935\n",
    "\n",
    "# Assuming y contains labels for the three-class problem\n",
    "# Create an instance of RandomUnderSampler\n",
    "rusO = RandomOverSampler(sampling_strategy={0: n_samples_per_class,\n",
    "                                            1: n_samples_per_class,\n",
    "                                            2: n_samples_per_class})\n",
    "\n",
    "# Perform random under-sampling\n",
    "X_resampled_O, y_resampled_O = rusO.fit_resample(X_tfidf, y)"
   ],
   "metadata": {
    "collapsed": false,
    "ExecuteTime": {
     "end_time": "2024-02-10T14:27:24.367431200Z",
     "start_time": "2024-02-10T14:27:24.347095600Z"
    }
   },
   "id": "73bdc924a94ae666"
  },
  {
   "cell_type": "code",
   "execution_count": 18,
   "outputs": [
    {
     "data": {
      "text/plain": "label\n1    8935\n0    8935\n2    8935\nName: count, dtype: int64"
     },
     "execution_count": 18,
     "metadata": {},
     "output_type": "execute_result"
    }
   ],
   "source": [
    "y_resampled_O.value_counts()"
   ],
   "metadata": {
    "collapsed": false,
    "ExecuteTime": {
     "end_time": "2024-02-10T14:27:25.181193500Z",
     "start_time": "2024-02-10T14:27:25.164818200Z"
    }
   },
   "id": "4554bbb3348b4660"
  }
 ],
 "metadata": {
  "kernelspec": {
   "display_name": "Python 3",
   "language": "python",
   "name": "python3"
  },
  "language_info": {
   "codemirror_mode": {
    "name": "ipython",
    "version": 2
   },
   "file_extension": ".py",
   "mimetype": "text/x-python",
   "name": "python",
   "nbconvert_exporter": "python",
   "pygments_lexer": "ipython2",
   "version": "2.7.6"
  }
 },
 "nbformat": 4,
 "nbformat_minor": 5
}
