{
 "cells": [
  {
   "cell_type": "code",
   "execution_count": 20,
   "outputs": [
    {
     "name": "stdout",
     "output_type": "stream",
     "text": [
      "Requirement already satisfied: imbalanced-learn in c:\\users\\fagos\\anaconda3\\lib\\site-packages (0.10.1)\n",
      "Collecting imbalanced-learn\n",
      "  Obtaining dependency information for imbalanced-learn from https://files.pythonhosted.org/packages/92/e8/86c36e1b13007ca9c89381adac6c078cfc8fb71841a76c08a3fe3eca91d3/imbalanced_learn-0.12.0-py3-none-any.whl.metadata\n",
      "  Downloading imbalanced_learn-0.12.0-py3-none-any.whl.metadata (8.2 kB)\n",
      "Requirement already satisfied: numpy>=1.17.3 in c:\\users\\fagos\\anaconda3\\lib\\site-packages (from imbalanced-learn) (1.24.3)\n",
      "Requirement already satisfied: scipy>=1.5.0 in c:\\users\\fagos\\anaconda3\\lib\\site-packages (from imbalanced-learn) (1.11.1)\n",
      "Requirement already satisfied: scikit-learn>=1.0.2 in c:\\users\\fagos\\anaconda3\\lib\\site-packages (from imbalanced-learn) (1.3.0)\n",
      "Requirement already satisfied: joblib>=1.1.1 in c:\\users\\fagos\\anaconda3\\lib\\site-packages (from imbalanced-learn) (1.2.0)\n",
      "Requirement already satisfied: threadpoolctl>=2.0.0 in c:\\users\\fagos\\anaconda3\\lib\\site-packages (from imbalanced-learn) (2.2.0)\n",
      "Downloading imbalanced_learn-0.12.0-py3-none-any.whl (257 kB)\n",
      "   ---------------------------------------- 0.0/257.7 kB ? eta -:--:--\n",
      "   ------ --------------------------------- 41.0/257.7 kB 1.9 MB/s eta 0:00:01\n",
      "   --------- ------------------------------ 61.4/257.7 kB 1.6 MB/s eta 0:00:01\n",
      "   --------- ------------------------------ 61.4/257.7 kB 1.6 MB/s eta 0:00:01\n",
      "   --------- ------------------------------ 61.4/257.7 kB 1.6 MB/s eta 0:00:01\n",
      "   --------- ------------------------------ 61.4/257.7 kB 1.6 MB/s eta 0:00:01\n",
      "   --------- ------------------------------ 61.4/257.7 kB 1.6 MB/s eta 0:00:01\n",
      "   --------- ------------------------------ 61.4/257.7 kB 1.6 MB/s eta 0:00:01\n",
      "   --------- ------------------------------ 61.4/257.7 kB 1.6 MB/s eta 0:00:01\n",
      "   ---------------------------- --------- 194.6/257.7 kB 471.4 kB/s eta 0:00:01\n",
      "   ---------------------------------- --- 235.5/257.7 kB 514.3 kB/s eta 0:00:01\n",
      "   -------------------------------------- 257.7/257.7 kB 546.2 kB/s eta 0:00:00\n",
      "Installing collected packages: imbalanced-learn\n",
      "  Attempting uninstall: imbalanced-learn\n",
      "    Found existing installation: imbalanced-learn 0.10.1\n",
      "    Uninstalling imbalanced-learn-0.10.1:\n",
      "      Successfully uninstalled imbalanced-learn-0.10.1\n",
      "Successfully installed imbalanced-learn-0.12.0\n"
     ]
    }
   ],
   "source": [
    "!pip install -U imbalanced-learn"
   ],
   "metadata": {
    "collapsed": false,
    "ExecuteTime": {
     "end_time": "2024-02-09T19:20:11.659115800Z",
     "start_time": "2024-02-09T19:20:04.719845600Z"
    }
   },
   "id": "5b0068167c346929"
  },
  {
   "cell_type": "code",
   "execution_count": 1,
   "outputs": [],
   "source": [
    "import glob\n",
    "import pandas as pd\n",
    "import ast\n",
    "from sklearn.feature_extraction.text import TfidfVectorizer\n",
    "from imblearn.under_sampling import RandomUnderSampler\n",
    "from imblearn.over_sampling import RandomOverSampler \n",
    "import os"
   ],
   "metadata": {
    "collapsed": true,
    "ExecuteTime": {
     "end_time": "2024-03-03T15:33:25.088521500Z",
     "start_time": "2024-03-03T15:33:22.379897500Z"
    }
   },
   "id": "initial_id"
  },
  {
   "cell_type": "markdown",
   "source": [
    "## Using All Agree File"
   ],
   "metadata": {
    "collapsed": false
   },
   "id": "d7ed30544ed97ac4"
  },
  {
   "cell_type": "code",
   "execution_count": 16,
   "outputs": [
    {
     "data": {
      "text/plain": "                                               entities  label\n0     accord gran company plan production russia com...      1\n1     quarter componenta net sale double eur eur per...      2\n2     quarter net sale increase eur operating profit...      2\n3     operating profit rise eur eur corresponding pe...      2\n4       operate profit total eur eur represent net sale      2\n...                                                 ...    ...\n2259  operate result month period decrease profit eu...      0\n2260  helsinki thomson financial share cargotec fall...      0\n2261  london marketwatch share price end lower londo...      0\n2262  operating profit fall eur eur include vessel s...      0\n2263  sale finland decrease january sale outside fin...      0\n\n[2261 rows x 2 columns]",
      "text/html": "<div>\n<style scoped>\n    .dataframe tbody tr th:only-of-type {\n        vertical-align: middle;\n    }\n\n    .dataframe tbody tr th {\n        vertical-align: top;\n    }\n\n    .dataframe thead th {\n        text-align: right;\n    }\n</style>\n<table border=\"1\" class=\"dataframe\">\n  <thead>\n    <tr style=\"text-align: right;\">\n      <th></th>\n      <th>entities</th>\n      <th>label</th>\n    </tr>\n  </thead>\n  <tbody>\n    <tr>\n      <th>0</th>\n      <td>accord gran company plan production russia com...</td>\n      <td>1</td>\n    </tr>\n    <tr>\n      <th>1</th>\n      <td>quarter componenta net sale double eur eur per...</td>\n      <td>2</td>\n    </tr>\n    <tr>\n      <th>2</th>\n      <td>quarter net sale increase eur operating profit...</td>\n      <td>2</td>\n    </tr>\n    <tr>\n      <th>3</th>\n      <td>operating profit rise eur eur corresponding pe...</td>\n      <td>2</td>\n    </tr>\n    <tr>\n      <th>4</th>\n      <td>operate profit total eur eur represent net sale</td>\n      <td>2</td>\n    </tr>\n    <tr>\n      <th>...</th>\n      <td>...</td>\n      <td>...</td>\n    </tr>\n    <tr>\n      <th>2259</th>\n      <td>operate result month period decrease profit eu...</td>\n      <td>0</td>\n    </tr>\n    <tr>\n      <th>2260</th>\n      <td>helsinki thomson financial share cargotec fall...</td>\n      <td>0</td>\n    </tr>\n    <tr>\n      <th>2261</th>\n      <td>london marketwatch share price end lower londo...</td>\n      <td>0</td>\n    </tr>\n    <tr>\n      <th>2262</th>\n      <td>operating profit fall eur eur include vessel s...</td>\n      <td>0</td>\n    </tr>\n    <tr>\n      <th>2263</th>\n      <td>sale finland decrease january sale outside fin...</td>\n      <td>0</td>\n    </tr>\n  </tbody>\n</table>\n<p>2261 rows × 2 columns</p>\n</div>"
     },
     "execution_count": 16,
     "metadata": {},
     "output_type": "execute_result"
    }
   ],
   "source": [
    "file_directory = r\"C:\\Users\\fagos\\PycharmProjects\\pythonProject\\DDB-4\\Financial-News-Sentiment-Analysis-NLP-Techniques\\data\\processed\\financial_phrasebank\"\n",
    "file_pattern = \"sentences_allagree_processed_ver1.2.csv\"\n",
    "\n",
    "matching_file = glob.glob(os.path.join(file_directory, file_pattern))\n",
    "\n",
    "financial_phrases = pd.read_csv(matching_file[0])\n",
    "financial_phrases.dropna(inplace=True)\n",
    "financial_phrases"
   ],
   "metadata": {
    "collapsed": false,
    "ExecuteTime": {
     "end_time": "2024-03-03T15:40:02.476826800Z",
     "start_time": "2024-03-03T15:40:02.406308100Z"
    }
   },
   "id": "b6c1015cde2afb9d"
  },
  {
   "cell_type": "code",
   "execution_count": 4,
   "outputs": [
    {
     "data": {
      "text/plain": "label\n1    1391\n2     570\n0     303\nName: count, dtype: int64"
     },
     "execution_count": 4,
     "metadata": {},
     "output_type": "execute_result"
    }
   ],
   "source": [
    "financial_phrases['label'].value_counts()"
   ],
   "metadata": {
    "collapsed": false,
    "ExecuteTime": {
     "end_time": "2024-03-03T15:35:40.004681900Z",
     "start_time": "2024-03-03T15:35:39.988680100Z"
    }
   },
   "id": "53a1358ba3dcc3c4"
  },
  {
   "cell_type": "code",
   "execution_count": 22,
   "outputs": [
    {
     "name": "stdout",
     "output_type": "stream",
     "text": [
      "(303, 2) (303, 2) (303, 2)\n"
     ]
    }
   ],
   "source": [
    "# Minority class\n",
    "neg = financial_phrases[financial_phrases['label'] == 0]\n",
    "\n",
    "# Undersampling\n",
    "pos = financial_phrases[financial_phrases['label'] == 2]\n",
    "pos = pos.sample(len(neg), random_state=10)\n",
    "neu = financial_phrases[financial_phrases['label'] == 1]\n",
    "neu = neu.sample(len(neg), random_state=10)\n",
    "\n",
    "print(pos.shape, neg.shape, neu.shape)"
   ],
   "metadata": {
    "collapsed": false,
    "ExecuteTime": {
     "end_time": "2024-03-03T21:10:13.625105800Z",
     "start_time": "2024-03-03T21:10:13.598586800Z"
    }
   },
   "id": "460594e9ebeab28"
  },
  {
   "cell_type": "code",
   "execution_count": 31,
   "outputs": [],
   "source": [
    "balanced_dataset = pd.concat([pos, neu, neg], axis = 0)\n",
    "balanced_dataset = balanced_dataset.reset_index()\n",
    "balanced_dataset = balanced_dataset.drop(columns = ['index'])"
   ],
   "metadata": {
    "collapsed": false,
    "ExecuteTime": {
     "end_time": "2024-03-03T21:21:34.780764100Z",
     "start_time": "2024-03-03T21:21:34.758684500Z"
    }
   },
   "id": "5858bbdecb0ce34"
  },
  {
   "cell_type": "code",
   "execution_count": 33,
   "outputs": [
    {
     "data": {
      "text/plain": "label\n2    303\n1    303\n0    303\nName: count, dtype: int64"
     },
     "execution_count": 33,
     "metadata": {},
     "output_type": "execute_result"
    }
   ],
   "source": [
    "balanced_dataset['label'].value_counts()"
   ],
   "metadata": {
    "collapsed": false,
    "ExecuteTime": {
     "end_time": "2024-03-03T21:21:58.470392100Z",
     "start_time": "2024-03-03T21:21:58.431315700Z"
    }
   },
   "id": "df16b189e43edb0e"
  },
  {
   "cell_type": "code",
   "execution_count": 35,
   "outputs": [],
   "source": [
    "file_name = \"sentences_allagree_processed_ver2_balanced.csv\"\n",
    "balanced_dataset.to_csv(os.path.join(file_directory, file_name), index=False)"
   ],
   "metadata": {
    "collapsed": false,
    "ExecuteTime": {
     "end_time": "2024-03-03T21:23:01.717827900Z",
     "start_time": "2024-03-03T21:23:01.685049500Z"
    }
   },
   "id": "b812532e9ff4e6da"
  },
  {
   "cell_type": "markdown",
   "source": [
    "## Undersampling"
   ],
   "metadata": {
    "collapsed": false
   },
   "id": "4272d95493c4d4ba"
  },
  {
   "cell_type": "code",
   "execution_count": 17,
   "outputs": [],
   "source": [
    "#X_str = [' '.join(tokens) for tokens in financial_phrases['entities']]\n",
    "\n",
    "# TF-IDF vectorizer\n",
    "tfidf_vectorizer = TfidfVectorizer()\n",
    "X_tfidf = tfidf_vectorizer.fit_transform(financial_phrases['entities'])\n",
    "\n",
    "#Setting the minimum number of classes to be equal to the smallest class. \n",
    "n_samples_per_class = 303\n",
    "\n",
    "# Create an instance of RandomUnderSampler\n",
    "rusU = RandomUnderSampler(sampling_strategy={0: n_samples_per_class,\n",
    "                                            1: n_samples_per_class,\n",
    "                                            2: n_samples_per_class})\n",
    "\n",
    "# Perform random under-sampling\n",
    "X_resampled_U, y_resampled_U = rusU.fit_resample(X_tfidf, y)"
   ],
   "metadata": {
    "collapsed": false,
    "ExecuteTime": {
     "end_time": "2024-03-03T15:40:05.883697800Z",
     "start_time": "2024-03-03T15:40:05.857947900Z"
    }
   },
   "id": "749ab378d83bd061"
  },
  {
   "cell_type": "code",
   "execution_count": 18,
   "outputs": [
    {
     "data": {
      "text/plain": "label\n0    303\n1    303\n2    303\nName: count, dtype: int64"
     },
     "execution_count": 18,
     "metadata": {},
     "output_type": "execute_result"
    }
   ],
   "source": [
    "y_resampled_U.value_counts()"
   ],
   "metadata": {
    "collapsed": false,
    "ExecuteTime": {
     "end_time": "2024-03-03T15:40:07.742515900Z",
     "start_time": "2024-03-03T15:40:07.713396400Z"
    }
   },
   "id": "f246a64cabdd3df5"
  },
  {
   "cell_type": "code",
   "execution_count": 19,
   "outputs": [
    {
     "data": {
      "text/plain": "     0    1    2    3    4    5    6    7    8    9  ...  4184  4185  4186  \\\n0  0.0  0.0  0.0  0.0  0.0  0.0  0.0  0.0  0.0  0.0  ...   0.0   0.0   0.0   \n1  0.0  0.0  0.0  0.0  0.0  0.0  0.0  0.0  0.0  0.0  ...   0.0   0.0   0.0   \n2  0.0  0.0  0.0  0.0  0.0  0.0  0.0  0.0  0.0  0.0  ...   0.0   0.0   0.0   \n3  0.0  0.0  0.0  0.0  0.0  0.0  0.0  0.0  0.0  0.0  ...   0.0   0.0   0.0   \n4  0.0  0.0  0.0  0.0  0.0  0.0  0.0  0.0  0.0  0.0  ...   0.0   0.0   0.0   \n\n   4187  4188  4189  4190  4191  4192  label  \n0   0.0   0.0   0.0   0.0   0.0   0.0      0  \n1   0.0   0.0   0.0   0.0   0.0   0.0      0  \n2   0.0   0.0   0.0   0.0   0.0   0.0      0  \n3   0.0   0.0   0.0   0.0   0.0   0.0      0  \n4   0.0   0.0   0.0   0.0   0.0   0.0      0  \n\n[5 rows x 4194 columns]",
      "text/html": "<div>\n<style scoped>\n    .dataframe tbody tr th:only-of-type {\n        vertical-align: middle;\n    }\n\n    .dataframe tbody tr th {\n        vertical-align: top;\n    }\n\n    .dataframe thead th {\n        text-align: right;\n    }\n</style>\n<table border=\"1\" class=\"dataframe\">\n  <thead>\n    <tr style=\"text-align: right;\">\n      <th></th>\n      <th>0</th>\n      <th>1</th>\n      <th>2</th>\n      <th>3</th>\n      <th>4</th>\n      <th>5</th>\n      <th>6</th>\n      <th>7</th>\n      <th>8</th>\n      <th>9</th>\n      <th>...</th>\n      <th>4184</th>\n      <th>4185</th>\n      <th>4186</th>\n      <th>4187</th>\n      <th>4188</th>\n      <th>4189</th>\n      <th>4190</th>\n      <th>4191</th>\n      <th>4192</th>\n      <th>label</th>\n    </tr>\n  </thead>\n  <tbody>\n    <tr>\n      <th>0</th>\n      <td>0.0</td>\n      <td>0.0</td>\n      <td>0.0</td>\n      <td>0.0</td>\n      <td>0.0</td>\n      <td>0.0</td>\n      <td>0.0</td>\n      <td>0.0</td>\n      <td>0.0</td>\n      <td>0.0</td>\n      <td>...</td>\n      <td>0.0</td>\n      <td>0.0</td>\n      <td>0.0</td>\n      <td>0.0</td>\n      <td>0.0</td>\n      <td>0.0</td>\n      <td>0.0</td>\n      <td>0.0</td>\n      <td>0.0</td>\n      <td>0</td>\n    </tr>\n    <tr>\n      <th>1</th>\n      <td>0.0</td>\n      <td>0.0</td>\n      <td>0.0</td>\n      <td>0.0</td>\n      <td>0.0</td>\n      <td>0.0</td>\n      <td>0.0</td>\n      <td>0.0</td>\n      <td>0.0</td>\n      <td>0.0</td>\n      <td>...</td>\n      <td>0.0</td>\n      <td>0.0</td>\n      <td>0.0</td>\n      <td>0.0</td>\n      <td>0.0</td>\n      <td>0.0</td>\n      <td>0.0</td>\n      <td>0.0</td>\n      <td>0.0</td>\n      <td>0</td>\n    </tr>\n    <tr>\n      <th>2</th>\n      <td>0.0</td>\n      <td>0.0</td>\n      <td>0.0</td>\n      <td>0.0</td>\n      <td>0.0</td>\n      <td>0.0</td>\n      <td>0.0</td>\n      <td>0.0</td>\n      <td>0.0</td>\n      <td>0.0</td>\n      <td>...</td>\n      <td>0.0</td>\n      <td>0.0</td>\n      <td>0.0</td>\n      <td>0.0</td>\n      <td>0.0</td>\n      <td>0.0</td>\n      <td>0.0</td>\n      <td>0.0</td>\n      <td>0.0</td>\n      <td>0</td>\n    </tr>\n    <tr>\n      <th>3</th>\n      <td>0.0</td>\n      <td>0.0</td>\n      <td>0.0</td>\n      <td>0.0</td>\n      <td>0.0</td>\n      <td>0.0</td>\n      <td>0.0</td>\n      <td>0.0</td>\n      <td>0.0</td>\n      <td>0.0</td>\n      <td>...</td>\n      <td>0.0</td>\n      <td>0.0</td>\n      <td>0.0</td>\n      <td>0.0</td>\n      <td>0.0</td>\n      <td>0.0</td>\n      <td>0.0</td>\n      <td>0.0</td>\n      <td>0.0</td>\n      <td>0</td>\n    </tr>\n    <tr>\n      <th>4</th>\n      <td>0.0</td>\n      <td>0.0</td>\n      <td>0.0</td>\n      <td>0.0</td>\n      <td>0.0</td>\n      <td>0.0</td>\n      <td>0.0</td>\n      <td>0.0</td>\n      <td>0.0</td>\n      <td>0.0</td>\n      <td>...</td>\n      <td>0.0</td>\n      <td>0.0</td>\n      <td>0.0</td>\n      <td>0.0</td>\n      <td>0.0</td>\n      <td>0.0</td>\n      <td>0.0</td>\n      <td>0.0</td>\n      <td>0.0</td>\n      <td>0</td>\n    </tr>\n  </tbody>\n</table>\n<p>5 rows × 4194 columns</p>\n</div>"
     },
     "execution_count": 19,
     "metadata": {},
     "output_type": "execute_result"
    }
   ],
   "source": [
    "financial_phrases_under = pd.DataFrame(X_resampled_U.toarray())\n",
    "financial_phrases_under['label'] = y_resampled_U\n",
    "financial_phrases_under.head()"
   ],
   "metadata": {
    "collapsed": false,
    "ExecuteTime": {
     "end_time": "2024-03-03T15:40:34.730959500Z",
     "start_time": "2024-03-03T15:40:34.694407700Z"
    }
   },
   "id": "c6b4586e823c1669"
  },
  {
   "cell_type": "code",
   "execution_count": null,
   "outputs": [],
   "source": [
    "file_name = \"sentences_allagree_processed_ver2_balanced.csv\"\n",
    "financial_phrases_under.tocsv(os.path.join(file_directory, file_name), index=False)"
   ],
   "metadata": {
    "collapsed": false
   },
   "id": "b55a73d6555fd7eb"
  }
 ],
 "metadata": {
  "kernelspec": {
   "display_name": "Python 3",
   "language": "python",
   "name": "python3"
  },
  "language_info": {
   "codemirror_mode": {
    "name": "ipython",
    "version": 2
   },
   "file_extension": ".py",
   "mimetype": "text/x-python",
   "name": "python",
   "nbconvert_exporter": "python",
   "pygments_lexer": "ipython2",
   "version": "2.7.6"
  }
 },
 "nbformat": 4,
 "nbformat_minor": 5
}
